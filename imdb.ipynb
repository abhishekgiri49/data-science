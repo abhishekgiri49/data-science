{
 "cells": [
  {
   "cell_type": "code",
   "execution_count": 6,
   "metadata": {},
   "outputs": [],
   "source": [
    "from bs4 import BeautifulSoup\n",
    "from urllib.request import urlopen"
   ]
  },
  {
   "cell_type": "code",
   "execution_count": 19,
   "metadata": {},
   "outputs": [],
   "source": [
    "html= urlopen(\"https://www.imdb.com/search/title?groups=top_250&sort=user_rating\")\n",
    "bsobj = BeautifulSoup(html,'html.parser')"
   ]
  },
  {
   "cell_type": "code",
   "execution_count": 20,
   "metadata": {},
   "outputs": [],
   "source": [
    "rows=[['Movie Name','Year','Rating','Director','Star','Gross']]"
   ]
  },
  {
   "cell_type": "code",
   "execution_count": 21,
   "metadata": {},
   "outputs": [],
   "source": [
    "table = bsobj.findAll(\"div\",{\"class\":\"lister-item\"})"
   ]
  },
  {
   "cell_type": "code",
   "execution_count": 22,
   "metadata": {},
   "outputs": [],
   "source": [
    "for lister_item in table:\n",
    "    row=[]\n",
    "    starlist=\"\"\n",
    "    i=1\n",
    "    row.append(lister_item.find(\"h3\",{\"class\":\"lister-item-header\"}).find(\"a\").text)\n",
    "    row.append(lister_item.find(\"span\",{\"class\":\"lister-item-year\"}).text.strip('()'))\n",
    "    row.append(lister_item.find(\"div\",{\"class\":\"ratings-imdb-rating\"})['data-value'])\n",
    "    row.append(lister_item.find(\"div\",{\"class\":\"lister-item-content\"}).findAll(\"p\")[2].find(\"a\").text)\n",
    "    for star in lister_item.find(\"div\",{\"class\":\"lister-item-content\"}).findAll(\"p\")[2].findAll(\"a\"):\n",
    "        if i!=1:\n",
    "            starlist += star.text + \", \"\n",
    "        i+=1\n",
    "    row.append(starlist)\n",
    "    row.append(lister_item.find(\"p\",{\"class\",\"sort-num_votes-visible\"}).findAll(\"span\")[-1].text)\n",
    "    rows.append(row)"
   ]
  },
  {
   "cell_type": "code",
   "execution_count": 13,
   "metadata": {},
   "outputs": [],
   "source": [
    "import csv"
   ]
  },
  {
   "cell_type": "code",
   "execution_count": 14,
   "metadata": {},
   "outputs": [],
   "source": [
    "myfile = open(\"imdb.csv\",\"w\")"
   ]
  },
  {
   "cell_type": "code",
   "execution_count": 15,
   "metadata": {},
   "outputs": [],
   "source": [
    "with myfile:\n",
    "    writer = csv.writer(myfile)\n",
    "    writer.writerows(rows)"
   ]
  },
  {
   "cell_type": "code",
   "execution_count": null,
   "metadata": {},
   "outputs": [],
   "source": []
  }
 ],
 "metadata": {
  "kernelspec": {
   "display_name": "Python 3",
   "language": "python",
   "name": "python3"
  },
  "language_info": {
   "codemirror_mode": {
    "name": "ipython",
    "version": 3
   },
   "file_extension": ".py",
   "mimetype": "text/x-python",
   "name": "python",
   "nbconvert_exporter": "python",
   "pygments_lexer": "ipython3",
   "version": "3.6.5"
  }
 },
 "nbformat": 4,
 "nbformat_minor": 2
}
